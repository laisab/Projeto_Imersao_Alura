{
  "nbformat": 4,
  "nbformat_minor": 0,
  "metadata": {
    "colab": {
      "provenance": [],
      "authorship_tag": "ABX9TyPcIZhB58agIwZEbFnhDLcq",
      "include_colab_link": true
    },
    "kernelspec": {
      "name": "python3",
      "display_name": "Python 3"
    },
    "language_info": {
      "name": "python"
    }
  },
  "cells": [
    {
      "cell_type": "markdown",
      "metadata": {
        "id": "view-in-github",
        "colab_type": "text"
      },
      "source": [
        "<a href=\"https://colab.research.google.com/github/laisab/Projeto_Imersao_Alura/blob/main/FunStudyBot.ipynb\" target=\"_parent\"><img src=\"https://colab.research.google.com/assets/colab-badge.svg\" alt=\"Open In Colab\"/></a>"
      ]
    },
    {
      "cell_type": "code",
      "execution_count": 51,
      "metadata": {
        "id": "e4JsORrmQuPp"
      },
      "outputs": [],
      "source": [
        "!pip install -q -U google-generativeai"
      ]
    },
    {
      "cell_type": "code",
      "source": [
        "import google.generativeai as genai\n",
        "from google.colab import userdata\n",
        "\n",
        "api_key = userdata.get('SECRET_KEY')\n",
        "genai.configure(api_key=api_key)"
      ],
      "metadata": {
        "id": "Gn9324Z1V-AY"
      },
      "execution_count": 52,
      "outputs": []
    },
    {
      "cell_type": "code",
      "source": [
        "for m in genai.list_models():\n",
        "  if 'generateContent' in m.supported_generation_methods:\n",
        "    print(m.name)"
      ],
      "metadata": {
        "colab": {
          "base_uri": "https://localhost:8080/",
          "height": 138
        },
        "id": "R5bO2jxrWRI7",
        "outputId": "91e0ff27-39c3-499e-9946-d33f592704ab"
      },
      "execution_count": 53,
      "outputs": [
        {
          "output_type": "stream",
          "name": "stdout",
          "text": [
            "models/gemini-1.0-pro\n",
            "models/gemini-1.0-pro-001\n",
            "models/gemini-1.0-pro-latest\n",
            "models/gemini-1.0-pro-vision-latest\n",
            "models/gemini-1.5-pro-latest\n",
            "models/gemini-pro\n",
            "models/gemini-pro-vision\n"
          ]
        }
      ]
    },
    {
      "cell_type": "code",
      "source": [
        "generation_config = {\n",
        "    \"candidate_count\": 1,\n",
        "    \"temperature\": 0.8\n",
        "}"
      ],
      "metadata": {
        "id": "pJaH7DmUXacu"
      },
      "execution_count": 54,
      "outputs": []
    },
    {
      "cell_type": "code",
      "source": [
        "safety_settings = {\n",
        "    \"HARASSMENT\": \"BLOCK_ONLY_HIGH\",\n",
        "    \"HATE\": \"BLOCK_ONLY_HIGH\",\n",
        "    \"SEXUAL\": \"BLOCK_MEDIUM_AND_ABOVE\",\n",
        "    \"DANGEROUS\": \"BLOCK_ONLY_HIGH\"\n",
        "}"
      ],
      "metadata": {
        "id": "y0JXDVjaXo9E"
      },
      "execution_count": 55,
      "outputs": []
    },
    {
      "cell_type": "code",
      "source": [
        "model = genai.GenerativeModel(model_name='gemini-1.0-pro',\n",
        "                              generation_config=generation_config,\n",
        "                              safety_settings=safety_settings\n",
        "                            )"
      ],
      "metadata": {
        "id": "hTUUyWKyZmlD"
      },
      "execution_count": 56,
      "outputs": []
    },
    {
      "cell_type": "code",
      "source": [
        "response = model.generate_content(\"Crie um paralelo entre o filme Meu Vizinho Totoro e a Revolução Francesa.\")\n",
        "print(response.text)"
      ],
      "metadata": {
        "colab": {
          "base_uri": "https://localhost:8080/",
          "height": 679
        },
        "id": "KhG4KZNVFJPH",
        "outputId": "c7152f12-3b3a-463d-b510-5b46eca4b380"
      },
      "execution_count": 57,
      "outputs": [
        {
          "output_type": "stream",
          "name": "stdout",
          "text": [
            "**Meu Vizinho Totoro e a Revolução Francesa: Paralelos**\n",
            "\n",
            "Apesar de sua aparente disparidade, o filme de animação \"Meu Vizinho Totoro\" e a Revolução Francesa compartilham vários paralelos notáveis:\n",
            "\n",
            "**1. Insatisfação com a Ordem Estabelecida:**\n",
            "\n",
            "* **Totoro:** Satsuki e Mei, as protagonistas, se sentem isoladas e oprimidas por sua mudança para o campo.\n",
            "* **Revolução Francesa:** O povo francês estava insatisfeito com a monarquia absoluta e as desigualdades sociais.\n",
            "\n",
            "**2. Busca por Liberdade e Autodeterminação:**\n",
            "\n",
            "* **Totoro:** Totoro representa a liberdade e a imaginação, ajudando Satsuki e Mei a abraçar sua nova vida.\n",
            "* **Revolução Francesa:** Os revolucionários buscavam liberdade, igualdade e fraternidade, derrubando a antiga ordem.\n",
            "\n",
            "**3. Papel da Natureza:**\n",
            "\n",
            "* **Totoro:** A floresta é um espaço mágico onde Totoro reside, simbolizando o poder da natureza e a possibilidade de transformação.\n",
            "* **Revolução Francesa:** Os jardins e parques de Paris desempenharam um papel crucial como locais de reunião e protesto.\n",
            "\n",
            "**4. Enfrentamento do Medo e da Adversidade:**\n",
            "\n",
            "* **Totoro:** Satsuki e Mei enfrentam o Gato-Ônibus assustador e o próprio Totoro, aprendendo a superar seus medos.\n",
            "* **Revolução Francesa:** Os revolucionários enfrentaram resistência e derramamento de sangue, mas perseveraram em sua luta.\n",
            "\n",
            "**5. Transformação e Renovação:**\n",
            "\n",
            "* **Totoro:** A chegada de Totoro transforma a vida de Satsuki e Mei, trazendo alegria e esperança.\n",
            "* **Revolução Francesa:** A revolução levou à derrubada da monarquia e ao estabelecimento de uma nova república, marcando uma era de transformação.\n",
            "\n",
            "**6. Símbolos de Esperança:**\n",
            "\n",
            "* **Totoro:** Totoro se torna um símbolo de conforto e apoio para Satsuki e Mei.\n",
            "* **Revolução Francesa:** A bandeira tricolor e a Marselhesa tornaram-se símbolos de liberdade e unidade.\n",
            "\n",
            "**Conclusão:**\n",
            "\n",
            "Embora ambientados em contextos muito diferentes, \"Meu Vizinho Totoro\" e a Revolução Francesa compartilham temas comuns de insatisfação, busca de liberdade, enfrentamento de adversidades e o poder transformador da esperança. Esses paralelos sugerem que as lutas humanas por mudança e autodeterminação são universais e atemporais.\n"
          ]
        }
      ]
    },
    {
      "cell_type": "code",
      "source": [
        "from IPython.display import HTML, display\n",
        "\n",
        "def saidaEstilo(text, color=None):\n",
        "  if color:\n",
        "    htmlStr = f\"<p style='color: {color}'>{text}</p>\"\n",
        "  else:\n",
        "    htmlStr = f\"<p>{text}</p>\"\n",
        "  display(HTML(htmlStr))"
      ],
      "metadata": {
        "id": "oUw-3z_iZ--y"
      },
      "execution_count": 58,
      "outputs": []
    },
    {
      "cell_type": "code",
      "source": [
        "def mostraExemplo():\n",
        "  tema = input(\"Escolha um tema para se relacionar com o conceito de Inteligência Artificial:  \")\n",
        "  response = model.generate_content(f\"Crie um paralelo entre o {tema} e a Inteligência Artificial.\")\n",
        "  saidaEstilo(\"Resposta: \", color=\"#8A2BE2\")\n",
        "  print(response.text, \"\\n\")"
      ],
      "metadata": {
        "id": "dS4oWkoplbfa"
      },
      "execution_count": 59,
      "outputs": []
    },
    {
      "cell_type": "code",
      "source": [
        "saidaEstilo(\"FunStudyBot\", color=\"#7B68EE\")\n",
        "saidaEstilo(\"Aproveite o FunStudyBot e evolua em seus estudos!\", color=\"#9370DB\")\n",
        "print(\"\\n\")\n",
        "saidaEstilo(\"Peça para a IA relacionar um hobbie ou gosto pessoal com algum tema de seus estudos. Quer um exemplo?\", color=\"#9370DB\")\n",
        "op = int(input(\"Digite 1 - SIM  2 - NÃO: \"))\n",
        "print(\"\\n\")\n",
        "\n",
        "if op == 1:\n",
        "  mostraExemplo()\n",
        "elif op == 2:\n",
        "  saidaEstilo(\"Saindo da sessão de exemplo...\",  color=\"#FFFF00\")\n",
        "else:\n",
        "  saidaEstilo(\"Opção inválida\", color=\"#FF0000\")\n",
        "\n",
        "chat = model.start_chat(history=[])\n",
        "\n",
        "prompt = input(\"\\nAguardando prompt: \")\n",
        "\n",
        "while prompt != \"Fim\" and prompt != \"fim\":\n",
        "  response = chat.send_message(prompt)\n",
        "  saidaEstilo(\"Resposta: \", color=\"#8A2BE2\")\n",
        "  print(response.text, \"\\n\")\n",
        "  prompt = input(\"\\nAguardando prompt: \")"
      ],
      "metadata": {
        "id": "XY7qugVm_ek3",
        "colab": {
          "base_uri": "https://localhost:8080/",
          "height": 1000
        },
        "outputId": "8cf6a483-e5bc-45a9-cd85-dacafcb2a237"
      },
      "execution_count": 63,
      "outputs": [
        {
          "output_type": "display_data",
          "data": {
            "text/plain": [
              "<IPython.core.display.HTML object>"
            ],
            "text/html": [
              "<p style='color: #7B68EE'>FunStudyBot</p>"
            ]
          },
          "metadata": {}
        },
        {
          "output_type": "display_data",
          "data": {
            "text/plain": [
              "<IPython.core.display.HTML object>"
            ],
            "text/html": [
              "<p style='color: #9370DB'>Aproveite o FunStudyBot e evolua em seus estudos!</p>"
            ]
          },
          "metadata": {}
        },
        {
          "output_type": "stream",
          "name": "stdout",
          "text": [
            "\n",
            "\n"
          ]
        },
        {
          "output_type": "display_data",
          "data": {
            "text/plain": [
              "<IPython.core.display.HTML object>"
            ],
            "text/html": [
              "<p style='color: #9370DB'>Peça para a IA relacionar um hobbie ou gosto pessoal com algum tema de seus estudos. Quer um exemplo?</p>"
            ]
          },
          "metadata": {}
        },
        {
          "output_type": "stream",
          "name": "stdout",
          "text": [
            "Digite 1 - SIM  2 - NÃO: 2\n",
            "\n",
            "\n"
          ]
        },
        {
          "output_type": "display_data",
          "data": {
            "text/plain": [
              "<IPython.core.display.HTML object>"
            ],
            "text/html": [
              "<p style='color: #FFFF00'>Saindo da sessão de exemplo...</p>"
            ]
          },
          "metadata": {}
        },
        {
          "name": "stdout",
          "output_type": "stream",
          "text": [
            "\n",
            "Aguardando prompt: relacione pokemon com economia\n"
          ]
        },
        {
          "output_type": "display_data",
          "data": {
            "text/plain": [
              "<IPython.core.display.HTML object>"
            ],
            "text/html": [
              "<p style='color: #8A2BE2'>Resposta: </p>"
            ]
          },
          "metadata": {}
        },
        {
          "name": "stdout",
          "output_type": "stream",
          "text": [
            "**Pokémon com características econômicas:**\n",
            "\n",
            "* **Ditto:**\n",
            "    * Capacidade de se transformar em qualquer outro Pokémon.\n",
            "    * Pode representar flexibilidade e adaptabilidade no mercado.\n",
            "\n",
            "* **Abra:**\n",
            "    * Pokémon com habilidades psíquicas.\n",
            "    * Pode simbolizar inteligência e percepção, essenciais para o sucesso econômico.\n",
            "\n",
            "* **Alakazam:**\n",
            "    * Evolução de Abra com habilidades psíquicas aprimoradas.\n",
            "    * Pode representar alto intelecto e tomada de decisão estratégica.\n",
            "\n",
            "* **Magnemite:**\n",
            "    * Pokémon magnético.\n",
            "    * Pode simbolizar a atração e o fluxo de recursos financeiros.\n",
            "\n",
            "* **Magneton:**\n",
            "    * Evolução de Magnemite com múltiplos ímãs.\n",
            "    * Pode representar a acumulação de riqueza e investimentos.\n",
            "\n",
            "* **Meowth:**\n",
            "    * Pokémon do tipo Normal com habilidades de coleta.\n",
            "    * Pode simbolizar o desejo de riqueza e prosperidade.\n",
            "\n",
            "* **Sudowoodo:**\n",
            "    * Pokémon que se disfarça de árvore.\n",
            "    * Pode representar o valor intrínseco e a sustentabilidade.\n",
            "\n",
            "* **Golduck:**\n",
            "    * Pokémon com habilidades aquáticas.\n",
            "    * Pode simbolizar o fluxo de dinheiro e investimentos.\n",
            "\n",
            "* **Blastoise:**\n",
            "    * Pokémon com uma concha resistente.\n",
            "    * Pode representar proteção e segurança financeira.\n",
            "\n",
            "* **Gengar:**\n",
            "    * Pokémon do tipo Fantasma com habilidades de manipulação.\n",
            "    * Pode simbolizar transações ocultas ou manipulação financeira. \n",
            "\n",
            "\n",
            "Aguardando prompt: crie um paralelo entre educação física e jardinagem\n"
          ]
        },
        {
          "output_type": "display_data",
          "data": {
            "text/plain": [
              "<IPython.core.display.HTML object>"
            ],
            "text/html": [
              "<p style='color: #8A2BE2'>Resposta: </p>"
            ]
          },
          "metadata": {}
        },
        {
          "name": "stdout",
          "output_type": "stream",
          "text": [
            "**Paralelo entre Educação Física e Jardinagem:**\n",
            "\n",
            "**Objetivo:**\n",
            "\n",
            "* **Educação Física:** Melhorar a saúde física e o bem-estar.\n",
            "* **Jardinagem:** Cultivar plantas para alimentação, beleza ou lazer.\n",
            "\n",
            "**Atividades:**\n",
            "\n",
            "* **Educação Física:** Exercícios aeróbicos, exercícios de força, esportes.\n",
            "* **Jardinagem:** Cavar, plantar, regar, aparar, colher.\n",
            "\n",
            "**Habilidades desenvolvidas:**\n",
            "\n",
            "* **Educação Física:** Coordenação, equilíbrio, resistência, força.\n",
            "* **Jardinagem:** Habilidades motoras finas, paciência, atenção aos detalhes.\n",
            "\n",
            "**Processo:**\n",
            "\n",
            "* **Educação Física:** Requer esforço físico e dedicação regular.\n",
            "* **Jardinagem:** Envolve um processo gradual de cultivo e cuidado.\n",
            "\n",
            "**Resultados:**\n",
            "\n",
            "* **Educação Física:** Melhor saúde física, aumento da confiança, redução do estresse.\n",
            "* **Jardinagem:** Alimentos frescos, plantas bonitas, sensação de realização.\n",
            "\n",
            "**Valores compartilhados:**\n",
            "\n",
            "* **Trabalho em equipe:** Ambas as atividades podem ser realizadas em grupo, promovendo a colaboração e o apoio.\n",
            "* **Disciplina:** Tanto a educação física quanto a jardinagem requerem disciplina e consistência.\n",
            "* **Conexão com a natureza:** Ambas as atividades envolvem interagir com o mundo natural, promovendo a apreciação e o respeito.\n",
            "\n",
            "**Benefícios para a saúde:**\n",
            "\n",
            "* **Educação Física:** Melhora a saúde cardiovascular, força muscular e flexibilidade.\n",
            "* **Jardinagem:** Fornece exercício leve, reduz o estresse e melhora o humor.\n",
            "\n",
            "**Aprendizado:**\n",
            "\n",
            "* **Educação Física:** Ensina habilidades motoras, autodisciplina e trabalho em equipe.\n",
            "* **Jardinagem:** Ensina sobre botânica, ecologia e o ciclo da vida.\n",
            "\n",
            "Em resumo, tanto a educação física quanto a jardinagem são atividades valiosas que promovem a saúde física, o bem-estar mental e o aprendizado por meio de processos envolventes e gratificantes. \n",
            "\n",
            "\n",
            "Aguardando prompt: fim\n"
          ]
        }
      ]
    }
  ]
}